{
 "cells": [
  {
   "cell_type": "code",
   "execution_count": 30,
   "metadata": {},
   "outputs": [],
   "source": [
    "import pandas as pd\n",
    "import numpy as np\n",
    "import torch\n",
    "import torch.nn as nn\n",
    "import torch.nn.functional as F\n",
    "from matplotlib import pyplot as plt"
   ]
  },
  {
   "cell_type": "code",
   "execution_count": 91,
   "metadata": {},
   "outputs": [],
   "source": [
    "x = torch.Tensor([\n",
    "    [[0,0,1,0,0],\n",
    "    [0,1,1,0,0],\n",
    "    [0,0,1,0,0],\n",
    "    [0,0,1,0,0],\n",
    "    [0,1,1,1,0]],\n",
    "    [[1,1,1,1,1],\n",
    "    [1,0,0,0,1],\n",
    "    [1,0,0,0,1],\n",
    "    [1,0,0,0,1],\n",
    "    [1,1,1,1,1]]\n",
    "])\n",
    "\n",
    "y = torch.Tensor([1,0]).long()"
   ]
  },
  {
   "cell_type": "code",
   "execution_count": 92,
   "metadata": {},
   "outputs": [
    {
     "data": {
      "image/png": "[encoded data removed]",
      "text/plain": [
       "<Figure size 640x480 with 1 Axes>"
      ]
     },
     "metadata": {},
     "output_type": "display_data"
    }
   ],
   "source": [
    "plt.imshow(x[1])\n",
    "plt.show()"
   ]
  },
  {
   "cell_type": "code",
   "execution_count": 93,
   "metadata": {},
   "outputs": [],
   "source": [
    "class Net(nn.Module):\n",
    "    def __init__(self):\n",
    "        super().__init__()\n",
    "        self.fc1 = nn.Linear(25,36)\n",
    "        self.fc2 = nn.Linear(36,72)\n",
    "        self.fc3 = nn.Linear(72,36)\n",
    "        self.fc4 = nn.Linear(36,2)\n",
    "\n",
    "    def forward(self,x):\n",
    "        x = F.relu(self.fc1(x))\n",
    "        x = F.relu(self.fc2(x))\n",
    "        x = F.relu(self.fc3(x))\n",
    "        x = self.fc4(x)\n",
    "        return ｘ\n",
    "\n"
   ]
  },
  {
   "cell_type": "code",
   "execution_count": 94,
   "metadata": {},
   "outputs": [
    {
     "data": {
      "text/plain": [
       "tensor([[-0.0982, -0.1275],\n",
       "        [-0.1078, -0.1650]], grad_fn=<AddmmBackward0>)"
      ]
     },
     "execution_count": 94,
     "metadata": {},
     "output_type": "execute_result"
    }
   ],
   "source": [
    "net=Net()\n",
    "net(x.view(-1,25))"
   ]
  },
  {
   "cell_type": "code",
   "execution_count": 95,
   "metadata": {},
   "outputs": [],
   "source": [
    "import torch.optim as optim\n",
    "optimizer = optim.AdamW(net.parameters())\n",
    "loss_fnc = nn.CrossEntropyLoss()"
   ]
  },
  {
   "cell_type": "code",
   "execution_count": 96,
   "metadata": {},
   "outputs": [
    {
     "name": "stdout",
     "output_type": "stream",
     "text": [
      "epoch:9,loss:0.6307201385498047\n",
      "epoch:19,loss:0.546965479850769\n",
      "epoch:29,loss:0.40633052587509155\n",
      "epoch:39,loss:0.20710152387619019\n",
      "epoch:49,loss:0.05794575437903404\n",
      "epoch:59,loss:0.006759367883205414\n",
      "epoch:69,loss:0.0002320473431609571\n",
      "epoch:79,loss:1.7285317426285474e-06\n",
      "epoch:89,loss:0.0\n",
      "epoch:99,loss:0.0\n"
     ]
    }
   ],
   "source": [
    "epochs = 100\n",
    "loss_list = []\n",
    "\n",
    "for epoch in range(epochs):\n",
    "    optimezer.zero_grad()\n",
    "    outputs = net(x.view(-1,25))\n",
    "    loss = loss_fnc(outputs,y)\n",
    "    loss.backward()\n",
    "    optimizer.step()\n",
    "\n",
    "    loss_list.append(loss.to('cpu').detach().numpy().copy())\n",
    "    if epoch % 10 == 9:\n",
    "        print(f\"epoch:{epoch},loss:{loss}\")\n",
    "\n"
   ]
  },
  {
   "cell_type": "code",
   "execution_count": 97,
   "metadata": {},
   "outputs": [
    {
     "data": {
      "text/plain": [
       "[<matplotlib.lines.Line2D at 0x158a3d637c0>]"
      ]
     },
     "execution_count": 97,
     "metadata": {},
     "output_type": "execute_result"
    },
    {
     "data": {
      "image/png": "[encoded data removed]",
      "text/plain": [
       "<Figure size 640x480 with 1 Axes>"
      ]
     },
     "metadata": {},
     "output_type": "display_data"
    }
   ],
   "source": [
    "plt.plot(loss_list)"
   ]
  },
  {
   "cell_type": "code",
   "execution_count": 107,
   "metadata": {},
   "outputs": [],
   "source": [
    "one = torch.Tensor(\n",
    "    [[0,0,1,0,0],\n",
    "    [0,1,1,0,0],\n",
    "    [0,0,1,0,0],\n",
    "    [0,0,1,0,0],\n",
    "    [0,1,1,1,0]])\n",
    "\n",
    "zero = torch.Tensor(\n",
    "    [[0,1,1,1,0],\n",
    "    [1,0,0,0,0],\n",
    "    [1,0,0,0,1],\n",
    "    [1,0,0,0,1],\n",
    "    [0,1,1,1,0]])"
   ]
  },
  {
   "cell_type": "code",
   "execution_count": 108,
   "metadata": {},
   "outputs": [
    {
     "data": {
      "text/plain": [
       "tensor([0])"
      ]
     },
     "execution_count": 108,
     "metadata": {},
     "output_type": "execute_result"
    }
   ],
   "source": [
    "net(zero.view(-1,25)).max(dim=1)[1]"
   ]
  },
  {
   "cell_type": "code",
   "execution_count": null,
   "metadata": {},
   "outputs": [],
   "source": []
  }
 ],
 "metadata": {
  "kernelspec": {
   "display_name": "base",
   "language": "python",
   "name": "python3"
  },
  "language_info": {
   "codemirror_mode": {
    "name": "ipython",
    "version": 3
   },
   "file_extension": ".py",
   "mimetype": "text/x-python",
   "name": "python",
   "nbconvert_exporter": "python",
   "pygments_lexer": "ipython3",
   "version": "3.10.9"
  }
 },
 "nbformat": 4,
 "nbformat_minor": 2
}
