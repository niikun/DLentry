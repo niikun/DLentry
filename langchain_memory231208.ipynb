{
  "nbformat": 4,
  "nbformat_minor": 0,
  "metadata": {
    "colab": {
      "provenance": [],
      "authorship_tag": "ABX9TyOFgqLqxk4684aX8uvqzPja",
      "include_colab_link": true
    },
    "kernelspec": {
      "name": "python3",
      "display_name": "Python 3"
    },
    "language_info": {
      "name": "python"
    }
  },
  "cells": [
    {
      "cell_type": "markdown",
      "metadata": {
        "id": "view-in-github",
        "colab_type": "text"
      },
      "source": [
        "<a href=\"https://colab.research.google.com/github/niikun/DLentry/blob/main/langchain_memory231208.ipynb\" target=\"_parent\"><img src=\"https://colab.research.google.com/assets/colab-badge.svg\" alt=\"Open In Colab\"/></a>"
      ]
    },
    {
      "cell_type": "code",
      "execution_count": null,
      "metadata": {
        "id": "nuk7-KRLP5t_"
      },
      "outputs": [],
      "source": [
        "!pip install openai"
      ]
    },
    {
      "cell_type": "code",
      "source": [
        "!pip install langchain"
      ],
      "metadata": {
        "id": "osU5FEQ4QB7e"
      },
      "execution_count": null,
      "outputs": []
    },
    {
      "cell_type": "code",
      "source": [
        "import os\n",
        "import langchain\n",
        "from langchain.chat_models import ChatOpenAI\n",
        "from langchain.chains import ConversationChain\n",
        "from langchain.memory import ConversationBufferMemory\n",
        "from google.colab import userdata\n",
        "import logging"
      ],
      "metadata": {
        "id": "U0sNsgrSQFfY"
      },
      "execution_count": 20,
      "outputs": []
    },
    {
      "cell_type": "code",
      "source": [
        "os.environ[\"OPENAI_API_KEY\"]=userdata.get('OPENAI_API_KEY')"
      ],
      "metadata": {
        "id": "xw4BPwOXSKCU"
      },
      "execution_count": 18,
      "outputs": []
    },
    {
      "cell_type": "code",
      "source": [
        "# langchain.verbose = True\n",
        "logging.getLogger(\"opneai\").setLevel(logging.DEBUG)\n",
        "chat = ChatOpenAI(model_name=\"gpt-4\",temperature=0)\n",
        "conversation = ConversationChain(llm=chat,memory=ConversationBufferMemory())\n",
        "while True:\n",
        "  user_message=input(\"you: \")\n",
        "  ai_message=conversation.run(input=user_message)\n",
        "  print(f\"AI: {ai_message}\")"
      ],
      "metadata": {
        "id": "ISx_ukl6Q6Fa"
      },
      "execution_count": null,
      "outputs": []
    },
    {
      "cell_type": "code",
      "source": [
        "}"
      ],
      "metadata": {
        "id": "h-UTM1EqSFCM"
      },
      "execution_count": null,
      "outputs": []
    }
  ]
}