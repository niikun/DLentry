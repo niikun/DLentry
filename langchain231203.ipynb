{
  "nbformat": 4,
  "nbformat_minor": 0,
  "metadata": {
    "colab": {
      "provenance": [],
      "authorship_tag": "ABX9TyNIMzLgoLxc1/f8A+OWFguZ"
    },
    "kernelspec": {
      "name": "python3",
      "display_name": "Python 3"
    },
    "language_info": {
      "name": "python"
    }
  },
  "cells": [
    {
      "cell_type": "code",
      "source": [
        "!pip install OpenAI\n"
      ],
      "metadata": {
        "id": "Kim_9qMq8kLI"
      },
      "execution_count": null,
      "outputs": []
    },
    {
      "cell_type": "code",
      "source": [
        "!pip install langchain"
      ],
      "metadata": {
        "id": "aDTZe5rP9-sY"
      },
      "execution_count": null,
      "outputs": []
    },
    {
      "cell_type": "code",
      "execution_count": null,
      "metadata": {
        "id": "8G0mkRUl8a0m"
      },
      "outputs": [],
      "source": [
        "import os\n",
        "from google.colab import userdata"
      ]
    },
    {
      "cell_type": "code",
      "source": [
        "os.environ[\"OPENAI_API_KEY\"] = userdata.get(\"OPENAI_API_KEY\")"
      ],
      "metadata": {
        "id": "fkJ72cs-OLA_"
      },
      "execution_count": null,
      "outputs": []
    },
    {
      "cell_type": "markdown",
      "source": [],
      "metadata": {
        "id": "akK4CeZI-ixY"
      }
    },
    {
      "cell_type": "code",
      "source": [
        "from langchain.chat_models import ChatOpenAI\n",
        "from langchain.schema import AIMessage, HumanMessage, SystemMessage\n",
        "\n",
        "chat = ChatOpenAI(model_name=\"gpt-3.5-turbo\", temperature=0)\n",
        "messages = [\n",
        "    SystemMessage(content=\"You are a helpful assistant.\"),\n",
        "    HumanMessage(content=\"こんちには！私はniikunです\"),\n",
        "    AIMessage(content=\"こんにちは！niikun！何かお手伝いすることはありますか？\"),\n",
        "    HumanMessage(content = \"自己紹介をしてください\")\n",
        "]\n",
        "\n",
        "result = chat(messages)\n",
        "print(result)"
      ],
      "metadata": {
        "colab": {
          "base_uri": "https://localhost:8080/"
        },
        "id": "s_vihNXH-8w6",
        "outputId": "a4464512-a667-4600-a7e8-f1fbe701e9fa"
      },
      "execution_count": null,
      "outputs": [
        {
          "output_type": "stream",
          "name": "stdout",
          "text": [
            "content='もちろんです！私はAIアシスタントです。あなたの質問やお悩みに対して、情報やアドバイスを提供することができます。また、スケジュール管理やリマインダーの設定、翻訳、天気予報などの機能も持っています。どのようにお手伝いできますか？'\n"
          ]
        }
      ]
    },
    {
      "cell_type": "code",
      "source": [],
      "metadata": {
        "id": "e1r-9oJtCF7h"
      },
      "execution_count": null,
      "outputs": []
    }
  ]
}